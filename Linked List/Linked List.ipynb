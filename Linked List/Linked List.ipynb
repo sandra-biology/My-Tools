{
 "cells": [
  {
   "cell_type": "code",
   "execution_count": 1,
   "metadata": {},
   "outputs": [
    {
     "name": "stdout",
     "output_type": "stream",
     "text": [
      "node.val = 1\n",
      "node.val = 3\n",
      "node.val = 4\n"
     ]
    }
   ],
   "source": [
    "class LinkedList:\n",
    "    class ListNode:\n",
    "        def __init__(self, x):\n",
    "            # ListNode constructor\n",
    "            self.val = x\n",
    "            self.next = None\n",
    "\n",
    "    def __init__(self):\n",
    "        # LinkedList constructor\n",
    "        self.head = None\n",
    "        \n",
    "    def add_to_head(self, x):\n",
    "        node = self.ListNode(x)\n",
    "        node.next = self.head\n",
    "        self.head = node\n",
    "\n",
    "    def print(self):\n",
    "        node = self.head\n",
    "        while node:\n",
    "            print(f\"node.val = {node.val}\")\n",
    "            node = node.next\n",
    "\n",
    "\n",
    "llist = LinkedList()\n",
    "\n",
    "llist.add_to_head(4)\n",
    "llist.add_to_head(3)\n",
    "llist.add_to_head(1)\n",
    "\n",
    "llist.print()"
   ]
  }
 ],
 "metadata": {
  "kernelspec": {
   "display_name": "Python 3",
   "language": "python",
   "name": "python3"
  },
  "language_info": {
   "codemirror_mode": {
    "name": "ipython",
    "version": 3
   },
   "file_extension": ".py",
   "mimetype": "text/x-python",
   "name": "python",
   "nbconvert_exporter": "python",
   "pygments_lexer": "ipython3",
   "version": "3.6.1"
  }
 },
 "nbformat": 4,
 "nbformat_minor": 2
}
